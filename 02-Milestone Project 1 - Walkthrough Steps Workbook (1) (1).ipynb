{
 "cells": [
  {
   "cell_type": "markdown",
   "metadata": {
    "id": "fLyyDwfjdzYB"
   },
   "source": [
    "# Milestone Project 1: Walkthrough Steps Workbook\n",
    "\n",
    "Below is a set of steps for you to follow to try to create the Tic Tac Toe Milestone Project game!"
   ]
  },
  {
   "cell_type": "markdown",
   "metadata": {
    "id": "Lm0N1oObdzYH"
   },
   "source": [
    "#### Some suggested tools before you get started:\n",
    "To take input from a user:\n",
    "\n",
    "    player1 = input(\"Please pick a marker 'X' or 'O'\")\n",
    "    \n",
    "Note that input() takes in a string. If you need an integer value, use\n",
    "\n",
    "    position = int(input('Please enter a number'))\n",
    "    \n",
    "<br>To clear the screen between moves:\n",
    "\n",
    "    from IPython.display import clear_output\n",
    "    clear_output()\n",
    "    \n",
    "Note that clear_output() will only work in jupyter. To clear the screen in other IDEs, consider:\n",
    "\n",
    "    print('\\n'*100)\n",
    "    \n",
    "This scrolls the previous board up out of view. Now on to the program!"
   ]
  },
  {
   "cell_type": "markdown",
   "metadata": {
    "id": "Wm2iVbdYdzYI"
   },
   "source": [
    "**Step 1: Write a function that can print out a board. Set up your board as a list, where each index 1-9 corresponds with a number on a number pad, so you get a 3 by 3 board representation.**"
   ]
  },
  {
   "cell_type": "code",
   "execution_count": 4,
   "metadata": {
    "id": "XbB0Sm5wdzYJ"
   },
   "outputs": [
    {
     "name": "stdout",
     "output_type": "stream",
     "text": [
      "  |   |  \n",
      "--|---|--\n",
      "  |   |  \n",
      "--|---|--\n",
      "  |   |  \n"
     ]
    }
   ],
   "source": [
    "from IPython.display import clear_output\n",
    "\n",
    "def display_board(board):\n",
    "    clear_output()  # Clears the screen for better visibility\n",
    "    print(f\"{board[7]} | {board[8]} | {board[9]}\")\n",
    "    print(\"--|---|--\")\n",
    "    print(f\"{board[4]} | {board[5]} | {board[6]}\")\n",
    "    print(\"--|---|--\")\n",
    "    print(f\"{board[1]} | {board[2]} | {board[3]}\")\n",
    "\n",
    "# Test Step 1\n",
    "test_board = ['#', ' ', ' ', ' ', ' ', ' ', ' ', ' ', ' ', ' ']\n",
    "display_board(test_board)\n"
   ]
  },
  {
   "cell_type": "markdown",
   "metadata": {
    "id": "rQ7Z7EpbdzYK"
   },
   "source": [
    "**TEST Step 1:** run your function on a test version of the board list, and make adjustments as necessary"
   ]
  },
  {
   "cell_type": "code",
   "execution_count": 6,
   "metadata": {
    "id": "jL35OLrMdzYK"
   },
   "outputs": [
    {
     "name": "stdout",
     "output_type": "stream",
     "text": [
      "X | O | X\n",
      "--|---|--\n",
      "O | X | O\n",
      "--|---|--\n",
      "X | O | X\n"
     ]
    }
   ],
   "source": [
    "test_board = ['#','X','O','X','O','X','O','X','O','X']\n",
    "display_board(test_board)"
   ]
  },
  {
   "cell_type": "markdown",
   "metadata": {
    "id": "C2yseHCpdzYL"
   },
   "source": [
    "**Step 2: Write a function that can take in a player input and assign their marker as 'X' or 'O'. Think about using *while* loops to continually ask until you get a correct answer.**"
   ]
  },
  {
   "cell_type": "code",
   "execution_count": 8,
   "metadata": {
    "id": "5jepx9r9dzYL"
   },
   "outputs": [],
   "source": [
    "def player_input():\n",
    "    marker = ''\n",
    "    while marker not in ['X', 'O']:\n",
    "        marker = input(\"Player 1, choose X or O: \").upper()\n",
    "    return ('X', 'O') if marker == 'X' else ('O', 'X')\n",
    "\n",
    "# Test Step 2\n",
    "#player1_marker, player2_marker = player_input()\n",
    "#print(f\"Player 1: {player1_marker}, Player 2: {player2_marker}\")\n"
   ]
  },
  {
   "cell_type": "markdown",
   "metadata": {
    "id": "Dndxn7OZdzYM"
   },
   "source": [
    "**TEST Step 2:** run the function to make sure it returns the desired output"
   ]
  },
  {
   "cell_type": "code",
   "execution_count": 10,
   "metadata": {
    "id": "h4ECUUtRdzYM"
   },
   "outputs": [],
   "source": [
    "#player_input()"
   ]
  },
  {
   "cell_type": "markdown",
   "metadata": {
    "id": "GJqWgNUAdzYN"
   },
   "source": [
    "**Step 3: Write a function that takes in the board list object, a marker ('X' or 'O'), and a desired position (number 1-9) and assigns it to the board.**"
   ]
  },
  {
   "cell_type": "code",
   "execution_count": 12,
   "metadata": {
    "id": "mxFCEDHhdzYN"
   },
   "outputs": [],
   "source": [
    "def place_marker(board, marker, position):\n",
    "    board[position] = marker\n",
    "\n",
    "# Test Step 3\n",
    "#place_marker(test_board, 'X', 5)\n",
    "#display_board(test_board)\n"
   ]
  },
  {
   "cell_type": "markdown",
   "metadata": {
    "id": "tJ6oFWzhdzYN"
   },
   "source": [
    "**TEST Step 3:** run the place marker function using test parameters and display the modified board"
   ]
  },
  {
   "cell_type": "code",
   "execution_count": 14,
   "metadata": {
    "id": "vt9vFCqqdzYN"
   },
   "outputs": [
    {
     "name": "stdout",
     "output_type": "stream",
     "text": [
      "X | $ | X\n",
      "--|---|--\n",
      "O | X | O\n",
      "--|---|--\n",
      "X | O | X\n"
     ]
    }
   ],
   "source": [
    "place_marker(test_board,'$',8)\n",
    "display_board(test_board)"
   ]
  },
  {
   "cell_type": "markdown",
   "metadata": {
    "id": "JembYwMUdzYO"
   },
   "source": [
    "**Step 4: Write a function that takes in a board and a mark (X or O) and then checks to see if that mark has won. **"
   ]
  },
  {
   "cell_type": "code",
   "execution_count": 16,
   "metadata": {
    "id": "TSQUCQCIdzYO"
   },
   "outputs": [],
   "source": [
    "def win_check(board, mark):\n",
    "    # Check rows, columns, and diagonals\n",
    "    return ((board[7] == board[8] == board[9] == mark) or  # top row\n",
    "            (board[4] == board[5] == board[6] == mark) or  # middle row\n",
    "            (board[1] == board[2] == board[3] == mark) or  # bottom row\n",
    "            (board[7] == board[4] == board[1] == mark) or  # left column\n",
    "            (board[8] == board[5] == board[2] == mark) or  # middle column\n",
    "            (board[9] == board[6] == board[3] == mark) or  # right column\n",
    "            (board[7] == board[5] == board[3] == mark) or  # diagonal\n",
    "            (board[9] == board[5] == board[1] == mark))    # diagonal\n",
    "\n",
    "# Test Step 4\n",
    "#print(win_check(test_board, 'X'))\n"
   ]
  },
  {
   "cell_type": "markdown",
   "metadata": {
    "id": "OvPrWpNFdzYO"
   },
   "source": [
    "**TEST Step 4:** run the win_check function against our test_board - it should return True"
   ]
  },
  {
   "cell_type": "code",
   "execution_count": 18,
   "metadata": {
    "id": "lEHNJFEldzYO"
   },
   "outputs": [
    {
     "data": {
      "text/plain": [
       "True"
      ]
     },
     "execution_count": 18,
     "metadata": {},
     "output_type": "execute_result"
    }
   ],
   "source": [
    "win_check(test_board,'X')"
   ]
  },
  {
   "cell_type": "markdown",
   "metadata": {
    "id": "xn-EID-5dzYO"
   },
   "source": [
    "**Step 5: Write a function that uses the random module to randomly decide which player goes first. You may want to lookup random.randint() Return a string of which player went first.**"
   ]
  },
  {
   "cell_type": "code",
   "execution_count": 20,
   "metadata": {
    "id": "rFTsRmVcdzYP"
   },
   "outputs": [],
   "source": [
    "import random\n",
    "\n",
    "def choose_first():\n",
    "    return \"Player 1\" if random.randint(0, 1) == 0 else \"Player 2\"\n",
    "\n",
    "# Test Step 5\n",
    "#print(choose_first())\n"
   ]
  },
  {
   "cell_type": "markdown",
   "metadata": {
    "id": "vaSWym4odzYP"
   },
   "source": [
    "**Step 6: Write a function that returns a boolean indicating whether a space on the board is freely available.**"
   ]
  },
  {
   "cell_type": "code",
   "execution_count": 22,
   "metadata": {
    "id": "5tNmekrXdzYP"
   },
   "outputs": [],
   "source": [
    "def space_check(board, position):\n",
    "    return board[position] == ' '\n",
    "\n",
    "# Test Step 6\n",
    "#print(space_check(test_board, 5))\n"
   ]
  },
  {
   "cell_type": "markdown",
   "metadata": {
    "id": "cZ5urekwdzYP"
   },
   "source": [
    "**Step 7: Write a function that checks if the board is full and returns a boolean value. True if full, False otherwise.**"
   ]
  },
  {
   "cell_type": "code",
   "execution_count": 24,
   "metadata": {
    "id": "tN1skTNGdzYP"
   },
   "outputs": [],
   "source": [
    "def full_board_check(board):\n",
    "    return ' ' not in board[1:]\n",
    "\n",
    "# Test Step 7\n",
    "#print(full_board_check(test_board))\n"
   ]
  },
  {
   "cell_type": "markdown",
   "metadata": {
    "id": "q1tJOcs-dzYQ"
   },
   "source": [
    "**Step 8: Write a function that asks for a player's next position (as a number 1-9) and then uses the function from step 6 to check if it's a free position. If it is, then return the position for later use.**"
   ]
  },
  {
   "cell_type": "code",
   "execution_count": 26,
   "metadata": {
    "id": "zq_AsWKGdzYQ"
   },
   "outputs": [],
   "source": [
    "def player_choice(board):\n",
    "    position = 0\n",
    "    while position not in range(1, 10) or not space_check(board, position):\n",
    "        position = int(input(\"Choose your next position (1-9): \"))\n",
    "    return position\n",
    "\n",
    "# Test Step 8\n",
    "#position = player_choice(test_board)\n",
    "#print(f\"Player chose position: {position}\")\n"
   ]
  },
  {
   "cell_type": "markdown",
   "metadata": {
    "id": "HiQRQm_WdzYQ"
   },
   "source": [
    "**Step 9: Write a function that asks the player if they want to play again and returns a boolean True if they do want to play again.**"
   ]
  },
  {
   "cell_type": "code",
   "execution_count": 28,
   "metadata": {
    "id": "LZgYrMaCdzYQ"
   },
   "outputs": [],
   "source": [
    "def replay():\n",
    "    return input(\"Do you want to play again? Enter Yes or No: \").lower().startswith('y')\n",
    "\n",
    "# Test Step 9\n",
    "#print(replay())\n"
   ]
  },
  {
   "cell_type": "markdown",
   "metadata": {
    "id": "jm0Tv6okdzYQ"
   },
   "source": [
    "**Step 10: Here comes the hard part! Use while loops and the functions you've made to run the game!**"
   ]
  },
  {
   "cell_type": "code",
   "execution_count": null,
   "metadata": {
    "colab": {
     "base_uri": "https://localhost:8080/"
    },
    "executionInfo": {
     "elapsed": 389,
     "status": "ok",
     "timestamp": 1732708440809,
     "user": {
      "displayName": "Omkar Shelar",
      "userId": "03314233871963789492"
     },
     "user_tz": -330
    },
    "id": "A6S-zXfRdzYQ",
    "outputId": "4813613d-7f7c-4f7b-f7ea-1c2cd2cf611f"
   },
   "outputs": [
    {
     "name": "stdout",
     "output_type": "stream",
     "text": [
      "X | O | X\n",
      "--|---|--\n",
      "O | X | O\n",
      "--|---|--\n",
      "O | X | O\n",
      "The game is a draw!\n"
     ]
    }
   ],
   "source": [
    "\n",
    "print(\"Welcome to Tic Tac Toe!\")\n",
    "\n",
    "while True:\n",
    "    # Initialize the game\n",
    "    the_board = [' '] * 10\n",
    "    player1_marker, player2_marker = player_input()\n",
    "    turn = choose_first()\n",
    "    print(f\"{turn} will go first!\")\n",
    "    \n",
    "    play_game = input(\"Are you ready to play? Enter Yes or No: \").lower().startswith('y')\n",
    "    game_on = play_game\n",
    "    \n",
    "    while game_on:\n",
    "        if turn == \"Player 1\":\n",
    "            display_board(the_board)\n",
    "            position = player_choice(the_board)\n",
    "            place_marker(the_board, player1_marker, position)\n",
    "            \n",
    "            if win_check(the_board, player1_marker):\n",
    "                display_board(the_board)\n",
    "                print(\"Player 1 has won!\")\n",
    "                game_on = False\n",
    "            else:\n",
    "                if full_board_check(the_board):\n",
    "                    display_board(the_board)\n",
    "                    print(\"The game is a draw!\")\n",
    "                    break\n",
    "                else:\n",
    "                    turn = \"Player 2\"\n",
    "        \n",
    "        else:\n",
    "            display_board(the_board)\n",
    "            position = player_choice(the_board)\n",
    "            place_marker(the_board, player2_marker, position)\n",
    "            \n",
    "            if win_check(the_board, player2_marker):\n",
    "                display_board(the_board)\n",
    "                print(\"Player 2 has won!\")\n",
    "                game_on = False\n",
    "            else:\n",
    "                if full_board_check(the_board):\n",
    "                    display_board(the_board)\n",
    "                    print(\"The game is a draw!\")\n",
    "                    break\n",
    "                else:\n",
    "                    turn = \"Player 1\"\n",
    "    \n",
    "    if not replay():\n",
    "        break\n"
   ]
  },
  {
   "cell_type": "markdown",
   "metadata": {
    "id": "gfOn8OkNdzYQ"
   },
   "source": [
    "## Good Job!"
   ]
  }
 ],
 "metadata": {
  "colab": {
   "provenance": []
  },
  "kernelspec": {
   "display_name": "Python 3 (ipykernel)",
   "language": "python",
   "name": "python3"
  },
  "language_info": {
   "codemirror_mode": {
    "name": "ipython",
    "version": 3
   },
   "file_extension": ".py",
   "mimetype": "text/x-python",
   "name": "python",
   "nbconvert_exporter": "python",
   "pygments_lexer": "ipython3",
   "version": "3.12.4"
  }
 },
 "nbformat": 4,
 "nbformat_minor": 4
}
